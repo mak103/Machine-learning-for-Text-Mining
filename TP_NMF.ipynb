{
 "cells": [
  {
   "cell_type": "markdown",
   "metadata": {},
   "source": [
    "# SD/TSIA_214  TP4\n",
    "## WANG Yuqing"
   ]
  },
  {
   "cell_type": "code",
   "execution_count": 1,
   "metadata": {
    "collapsed": true
   },
   "outputs": [],
   "source": [
    "from __future__ import print_function\n",
    "from time import time\n",
    "from sklearn.feature_extraction.text import TfidfVectorizer, CountVectorizer\n",
    "from sklearn.decomposition import NMF\n",
    "from sklearn.datasets import fetch_20newsgroups\n",
    "import numpy as np"
   ]
  },
  {
   "cell_type": "code",
   "execution_count": 2,
   "metadata": {
    "collapsed": true
   },
   "outputs": [],
   "source": [
    "n_samples = 2000\n",
    "n_features = 1000\n",
    "n_components = 10\n",
    "n_top_words = 20"
   ]
  },
  {
   "cell_type": "code",
   "execution_count": 3,
   "metadata": {
    "collapsed": true
   },
   "outputs": [],
   "source": [
    "def print_top_words(model, feature_names, n_top_words):\n",
    "    for topic_idx, topic in enumerate(model.components_):\n",
    "        message = \"Topic #%d: \" % topic_idx\n",
    "        message += \" \".join([feature_names[i] for i in topic.argsort()[:-n_top_words - 1:-1] ])\n",
    "        print(message)\n",
    "    print()"
   ]
  },
  {
   "cell_type": "code",
   "execution_count": 4,
   "metadata": {},
   "outputs": [
    {
     "name": "stdout",
     "output_type": "stream",
     "text": [
      "Loading dataset...\n",
      "done in 1.997s.\n"
     ]
    }
   ],
   "source": [
    "print(\"Loading dataset...\")\n",
    "t0 = time()\n",
    "dataset = fetch_20newsgroups(shuffle=True, random_state=1, remove=('headers', 'footers', 'quotes'))\n",
    "data_samples = dataset.data[:n_samples]\n",
    "print(\"done in %0.3fs.\" % (time() - t0))"
   ]
  },
  {
   "cell_type": "code",
   "execution_count": 5,
   "metadata": {},
   "outputs": [
    {
     "name": "stdout",
     "output_type": "stream",
     "text": [
      "Extracting tf-idf features...\n",
      "done in 0.493s.\n"
     ]
    }
   ],
   "source": [
    "print(\"Extracting tf-idf features...\")\n",
    "tfidf_vectorizer = TfidfVectorizer(max_df=0.95, min_df=2, max_features=n_features, stop_words='english')\n",
    "t0 = time()\n",
    "tfidf = tfidf_vectorizer.fit_transform(data_samples)\n",
    "print(\"done in %0.3fs.\" % (time() - t0))"
   ]
  },
  {
   "cell_type": "code",
   "execution_count": 6,
   "metadata": {},
   "outputs": [
    {
     "name": "stdout",
     "output_type": "stream",
     "text": [
      "Fitting the NMF model (Frobenius norm) with tf-idf features, n_samples=2000 and n_features=1000...\n",
      "done in 0.303s.\n"
     ]
    }
   ],
   "source": [
    "print(\"Fitting the NMF model (Frobenius norm) with tf-idf features, \" \"n_samples=%d and n_features=%d...\" % (n_samples, n_features))\n",
    "t0 = time()\n",
    "nmf = NMF(n_components=n_components, random_state=1, alpha=.1, l1_ratio=.5).fit(tfidf)\n",
    "print(\"done in %0.3fs.\" % (time() - t0))"
   ]
  },
  {
   "cell_type": "code",
   "execution_count": 7,
   "metadata": {},
   "outputs": [
    {
     "name": "stdout",
     "output_type": "stream",
     "text": [
      "Topics in NMF model (Frobenius norm):\n",
      "Topic #0: just people don think like know time good make way really say right ve want did ll new use years\n",
      "Topic #1: windows use dos using window program os drivers application help software pc running ms screen files version card code work\n",
      "Topic #2: god jesus bible faith christian christ christians does heaven sin believe lord life church mary atheism belief human love religion\n",
      "Topic #3: thanks know does mail advance hi info interested email anybody looking card help like appreciated information send list video need\n",
      "Topic #4: car cars tires miles 00 new engine insurance price condition oil power speed good 000 brake year models used bought\n",
      "Topic #5: edu soon com send university internet mit ftp mail cc pub article information hope program mac email home contact blood\n",
      "Topic #6: file problem files format win sound ftp pub read save site help image available create copy running memory self version\n",
      "Topic #7: game team games year win play season players nhl runs goal hockey toronto division flyers player defense leafs bad teams\n",
      "Topic #8: drive drives hard disk floppy software card mac computer power scsi controller apple mb 00 pc rom sale problem internal\n",
      "Topic #9: key chip clipper keys encryption government public use secure enforcement phone nsa communications law encrypted security clinton used legal standard\n",
      "\n"
     ]
    }
   ],
   "source": [
    "print(\"Topics in NMF model (Frobenius norm):\")\n",
    "tfidf_feature_names = tfidf_vectorizer.get_feature_names()\n",
    "print_top_words(nmf, tfidf_feature_names, n_top_words)"
   ]
  },
  {
   "cell_type": "markdown",
   "metadata": {},
   "source": [
    "## 1. Test and comment on the effect of varying the initialisation, especially using random nonnegative values as initial guesses."
   ]
  },
  {
   "cell_type": "code",
   "execution_count": 8,
   "metadata": {},
   "outputs": [
    {
     "name": "stdout",
     "output_type": "stream",
     "text": [
      "Topics in NMF model (random initalisation):\n",
      "Topic #0: just like don people time know good make way use right say ve really want government ll new did going\n",
      "Topic #1: christian bible true christians faith jesus religion people does christ belief church life truth read reading believe statement atheism claim\n",
      "Topic #2: god jesus sin heaven lord christ believe mary does bible love human knowledge life marriage faith say children atheism knows\n",
      "Topic #3: think don people win extra just early sold sex need actually happen means pretty toronto wasn agree david statement mike\n",
      "Topic #4: drive drives hard disk software floppy card mac 00 computer scsi controller power apple mb pc sale rom monitor internal\n",
      "Topic #5: thanks know does mail advance hi info interested email anybody looking card help like appreciated list send information video need\n",
      "Topic #6: windows file dos files program using use window problem os help running drivers application pc ms ftp version screen available\n",
      "Topic #7: game team games year win play season players nhl runs goal hockey toronto division flyers player defense leafs bad teams\n",
      "Topic #8: car cars tires miles new engine insurance 00 price condition oil speed 000 good power brake year models bought area\n",
      "Topic #9: edu soon com send university internet mit ftp mail cc article pub information hope email mac blood home contact program\n",
      "\n"
     ]
    }
   ],
   "source": [
    "print(\"Topics in NMF model (random initalisation):\")\n",
    "nmf2 = NMF(n_components=n_components, init='random', random_state=1, alpha=.1, l1_ratio=.5).fit(tfidf)\n",
    "print_top_words(nmf2, tfidf_feature_names, n_top_words)"
   ]
  },
  {
   "cell_type": "markdown",
   "metadata": {},
   "source": [
    "We can see that with the change of the different kinds of initialisation, top words may belong to different topics. Topic 1 totally changed it's meaning, it has almost the same topic as Topic 2."
   ]
  },
  {
   "cell_type": "markdown",
   "metadata": {},
   "source": [
    "## 2. Compare and comment on the difference between the results obtained with l2 cost compared to the generalised Kullback-Liebler cost."
   ]
  },
  {
   "cell_type": "code",
   "execution_count": 9,
   "metadata": {},
   "outputs": [
    {
     "name": "stdout",
     "output_type": "stream",
     "text": [
      "Topics in NMF model (random initalisation):\n",
      "Topic #0: people don just like think did say time make know really right said things way ve course didn question probably\n",
      "Topic #1: windows help thanks using hi looking info video dos pc does anybody ftp appreciated mail know advance available use card\n",
      "Topic #2: god does jesus true book christian bible christians religion faith believe life church christ says know read exist lord people\n",
      "Topic #3: thanks know bike interested mail like new car edu heard just price list email hear want cars thing sounds reply\n",
      "Topic #4: 10 00 sale time power 12 new 15 year 30 offer condition 14 16 model 11 monitor 100 old 25\n",
      "Topic #5: space government number public data states earth security water research nasa general 1993 phone information science technology provide blood internet\n",
      "Topic #6: edu file com program soon try window problem remember files sun send library article mike wrong think code win manager\n",
      "Topic #7: game team year games play win season points world division won players nhl flyers toronto case cubs teams ll record\n",
      "Topic #8: drive think hard software disk drives apple computer mac need scsi card don problem read floppy post cable going ii\n",
      "Topic #9: use good just key chip got like ll way clipper doesn keys don better speed stuff want sure going need\n",
      "\n"
     ]
    }
   ],
   "source": [
    "print(\"Topics in NMF model (random initalisation):\")\n",
    "nmf3 = NMF(n_components=n_components, solver='mu', beta_loss='kullback-leibler', random_state=1, alpha=.1, l1_ratio=.5).fit(tfidf)\n",
    "print_top_words(nmf3, tfidf_feature_names, n_top_words)"
   ]
  },
  {
   "cell_type": "markdown",
   "metadata": {},
   "source": [
    "With the kullback-leibler loss function, we can see that the accuracy is improved. Some topics changed their meaning, but the words in a topic are more relatied."
   ]
  },
  {
   "cell_type": "markdown",
   "metadata": {
    "collapsed": true
   },
   "source": [
    "## 3. Test and comment on the results obtained using a simpler term-frequency representation as input when considering the Kullback-Liebler cost."
   ]
  },
  {
   "cell_type": "code",
   "execution_count": 10,
   "metadata": {},
   "outputs": [
    {
     "name": "stdout",
     "output_type": "stream",
     "text": [
      "Topics in NMF model (simpler term-frequency):\n",
      "Topic #0: people don kept like think did save time make know real results runs things way various couple didn quality pro\n",
      "Topic #1: windows hi thanks uses high looking information vga dos pc does anti function apply mail know administration automatic unless canada\n",
      "Topic #2: goes does jewish true bob choice best christ related family begin life christian chip say know ray expect lord people\n",
      "Topic #3: thanks know bible interesting mail like new came edu heart kept price list email heard vs care thing sound religious\n",
      "Topic #4: 10 00 safety time power 12 new 15 year 30 offer completely 14 16 model 11 monitor 100 old 25\n",
      "Topic #5: soviet graphics number pub dangerous states earth section water require nasa generally 1993 phone input school technology prove black involved\n",
      "Topic #6: edu files cold product soldiers try window probes religion final sun self library army mike wrong think clock win manager\n",
      "Topic #7: games team year gas play win scsi points world division won players nhl folks toronto carry cs teams ll recommend\n",
      "Topic #8: drive think hardware society disk drives appears complete mac need scientific canada don probes ray flyers post buying gone image\n",
      "Topic #9: unless got kept keys check gov like ll way clearly doesn kids don believe specifically stuff vs sure gone need\n",
      "\n"
     ]
    }
   ],
   "source": [
    "print(\"Topics in NMF model (simpler term-frequency):\")\n",
    "count_vectorizer = CountVectorizer(max_features=n_features, stop_words='english' )\n",
    "count = count_vectorizer.fit_transform(data_samples)\n",
    "count_feature_names = count_vectorizer.get_feature_names()\n",
    "print_top_words(nmf3, count_feature_names, n_top_words)"
   ]
  },
  {
   "cell_type": "markdown",
   "metadata": {},
   "source": [
    "After using a simpler term-frequency representation as input, there are some slightly change in the result.We can see from the topic 9 that the top words changed a lot, but the number remains the same."
   ]
  },
  {
   "cell_type": "markdown",
   "metadata": {},
   "source": [
    "# CUSTOM NMF IMPLEMENTATION"
   ]
  },
  {
   "cell_type": "code",
   "execution_count": 11,
   "metadata": {},
   "outputs": [],
   "source": [
    "def b_divergence(b,x,y):\n",
    "    if b == 0:\n",
    "        return x/y-np.log(x/y)-1\n",
    "    if b == 1:\n",
    "        return x*np.log(x/y)-x+y\n",
    "    else:\n",
    "        return 1/(b*(b-1))*(x**b+(b-1)*y**b-b*x*y**(b-1))"
   ]
  },
  {
   "cell_type": "code",
   "execution_count": 12,
   "metadata": {},
   "outputs": [
    {
     "name": "stderr",
     "output_type": "stream",
     "text": [
      "C:\\Users\\wangy\\Anaconda2\\lib\\site-packages\\ipykernel_launcher.py:5: RuntimeWarning: divide by zero encountered in log\n",
      "  \"\"\"\n"
     ]
    }
   ],
   "source": [
    "order = 6\n",
    "rank = 4\n",
    "iteration = 10\n",
    "b = 1 #Kullback-Liebler divergence\n",
    "\n",
    "w = np.random.randint(0,9,size=(rank, order))\n",
    "h = np.random.randint(0,9,size=(order, rank))\n",
    "v = np.dot(w, h)\n",
    "\n",
    "for i in range(iteration):\n",
    "    sum_1 = 0\n",
    "    for j in range(v.shape[0]):\n",
    "        vn = v[:][j]\n",
    "        vn_hat = np.dot(np.dot(w, w.T), vn)\n",
    "        sum_2 = 0\n",
    "        for k in range(v.shape[1]):\n",
    "            sum_2 += b_divergence(b,vn[k],vn_hat[k])\n",
    "    sum_1 += sum_2\n",
    "            "
   ]
  }
 ],
 "metadata": {
  "kernelspec": {
   "display_name": "Python 2",
   "language": "python",
   "name": "python2"
  },
  "language_info": {
   "codemirror_mode": {
    "name": "ipython",
    "version": 2
   },
   "file_extension": ".py",
   "mimetype": "text/x-python",
   "name": "python",
   "nbconvert_exporter": "python",
   "pygments_lexer": "ipython2",
   "version": "2.7.13"
  }
 },
 "nbformat": 4,
 "nbformat_minor": 2
}
